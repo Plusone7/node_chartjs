{
 "cells": [
  {
   "cell_type": "code",
   "execution_count": 5,
   "metadata": {},
   "outputs": [],
   "source": [
    "import smaillproject_todo as todoapi\n",
    "from datetime import datetime \n",
    "class dataProcess:\n",
    "    def __init__(self,job,time,ifdone):\n",
    "        self.job = job\n",
    "        self.time = time\n",
    "        self.ifdone = ifdone\n",
    "    def add_data():\n",
    "        job = todoapi.funcChoose\n",
    "        print('job:',job)\n",
    "        time = datetime.now().strftime('%Y-%m-%d %H:%M:%S')\n",
    "        print('insert time: ',time)"
   ]
  },
  {
   "cell_type": "code",
   "execution_count": 6,
   "metadata": {},
   "outputs": [
    {
     "name": "stdout",
     "output_type": "stream",
     "text": [
      "you want to -f the /Users/plusone/Library/Jupyter/runtime/kernel-4449469e-54c4-47a1-85c2-ac3a16466ce9.json\n",
      "job: -f\n",
      "insert time:  2017-11-22 14:35:49\n"
     ]
    }
   ],
   "source": [
    "import sys,pyperclip\n",
    "import todo_model as todo\n",
    "if len(sys.argv)>1:\n",
    "    funcChoose = ''.join(sys.argv[1:2])\n",
    "    todoString = ' '.join(sys.argv[2:])\n",
    "    print('you want to',funcChoose ,'the' ,todoString)\n",
    "    todo.dataProcess.add_data()\n",
    "else:\n",
    "    print('what do you want to do ? del,add or done ?')\n",
    "    funcChoose = input()\n",
    "    print(funcChoose , 'which job ?' )\n",
    "    todoString = input()\n",
    "    print('you want to',funcChoose ,'the' ,todoString ,'.... ok! ')\n",
    "    todo.dataProcess.add_data()"
   ]
  },
  {
   "cell_type": "code",
   "execution_count": null,
   "metadata": {},
   "outputs": [],
   "source": []
  }
 ],
 "metadata": {
  "kernelspec": {
   "display_name": "Python 3",
   "language": "python",
   "name": "python3"
  },
  "language_info": {
   "codemirror_mode": {
    "name": "ipython",
    "version": 3
   },
   "file_extension": ".py",
   "mimetype": "text/x-python",
   "name": "python",
   "nbconvert_exporter": "python",
   "pygments_lexer": "ipython3",
   "version": "3.6.2"
  }
 },
 "nbformat": 4,
 "nbformat_minor": 2
}
