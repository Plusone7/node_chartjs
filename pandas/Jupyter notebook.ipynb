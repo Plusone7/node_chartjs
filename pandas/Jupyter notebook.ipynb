{
 "cells": [
  {
   "cell_type": "markdown",
   "metadata": {},
   "source": [
    "## Keyboard shortcut"
   ]
  },
  {
   "cell_type": "markdown",
   "metadata": {},
   "source": [
    "`H` help "
   ]
  },
  {
   "cell_type": "markdown",
   "metadata": {},
   "source": [
    "`X` Delete Cell"
   ]
  },
  {
   "cell_type": "markdown",
   "metadata": {},
   "source": [
    "`M` Markdown  "
   ]
  },
  {
   "cell_type": "markdown",
   "metadata": {},
   "source": [
    "`Y` Code"
   ]
  },
  {
   "cell_type": "markdown",
   "metadata": {},
   "source": [
    "`A` Above Create New Cell"
   ]
  },
  {
   "cell_type": "markdown",
   "metadata": {},
   "source": [
    "`B` Below Create New Cell"
   ]
  },
  {
   "cell_type": "markdown",
   "metadata": {},
   "source": [
    "## Import  lib"
   ]
  },
  {
   "cell_type": "code",
   "execution_count": 2,
   "metadata": {},
   "outputs": [],
   "source": [
    "import pandas as pd\n",
    "import numpy as np\n",
    "import matplotlib.pyplot as plt\n",
    "%matplotlib inline\n"
   ]
  },
  {
   "cell_type": "code",
   "execution_count": 3,
   "metadata": {},
   "outputs": [
    {
     "data": {
      "text/plain": [
       "'0.20.3'"
      ]
     },
     "execution_count": 3,
     "metadata": {},
     "output_type": "execute_result"
    }
   ],
   "source": [
    "pd.__version__ # show pd's version"
   ]
  },
  {
   "cell_type": "markdown",
   "metadata": {},
   "source": [
    "## list "
   ]
  },
  {
   "cell_type": "code",
   "execution_count": 4,
   "metadata": {},
   "outputs": [],
   "source": [
    "lucky_num = [1,2,3,4]\n",
    "name = ['apple','banana','watermelon']\n",
    "actived = [True,False,True,False]"
   ]
  },
  {
   "cell_type": "code",
   "execution_count": 5,
   "metadata": {},
   "outputs": [
    {
     "data": {
      "text/plain": [
       "list"
      ]
     },
     "execution_count": 5,
     "metadata": {},
     "output_type": "execute_result"
    }
   ],
   "source": [
    "type(lucky_num)\n"
   ]
  },
  {
   "cell_type": "code",
   "execution_count": 6,
   "metadata": {},
   "outputs": [
    {
     "data": {
      "text/plain": [
       "list"
      ]
     },
     "execution_count": 6,
     "metadata": {},
     "output_type": "execute_result"
    }
   ],
   "source": [
    "type(name)"
   ]
  },
  {
   "cell_type": "code",
   "execution_count": 7,
   "metadata": {},
   "outputs": [
    {
     "data": {
      "text/plain": [
       "list"
      ]
     },
     "execution_count": 7,
     "metadata": {},
     "output_type": "execute_result"
    }
   ],
   "source": [
    "type(actived)"
   ]
  },
  {
   "cell_type": "code",
   "execution_count": 8,
   "metadata": {},
   "outputs": [
    {
     "data": {
      "text/plain": [
       "4"
      ]
     },
     "execution_count": 8,
     "metadata": {},
     "output_type": "execute_result"
    }
   ],
   "source": [
    "len(lucky_num)"
   ]
  },
  {
   "cell_type": "code",
   "execution_count": 9,
   "metadata": {},
   "outputs": [
    {
     "data": {
      "text/plain": [
       "'watermelon'"
      ]
     },
     "execution_count": 9,
     "metadata": {},
     "output_type": "execute_result"
    }
   ],
   "source": [
    "name[2]"
   ]
  },
  {
   "cell_type": "markdown",
   "metadata": {},
   "source": [
    "## dictionaries"
   ]
  },
  {
   "cell_type": "code",
   "execution_count": 10,
   "metadata": {},
   "outputs": [],
   "source": [
    "animal = { \n",
    "    '01':'pig',\n",
    "    '02':'dog',\n",
    "    '03':'cat',\n",
    "    '04':'dragan'\n",
    "}"
   ]
  },
  {
   "cell_type": "code",
   "execution_count": 11,
   "metadata": {},
   "outputs": [
    {
     "data": {
      "text/plain": [
       "'pig'"
      ]
     },
     "execution_count": 11,
     "metadata": {},
     "output_type": "execute_result"
    }
   ],
   "source": [
    "animal['01']"
   ]
  },
  {
   "cell_type": "code",
   "execution_count": 12,
   "metadata": {},
   "outputs": [
    {
     "name": "stdout",
     "output_type": "stream",
     "text": [
      "num: 01 type: pig\n",
      "num: 02 type: dog\n",
      "num: 03 type: cat\n",
      "num: 04 type: dragan\n"
     ]
    }
   ],
   "source": [
    "for x in animal:\n",
    "    print(\"num: \"+ x +\" type: \"+ animal[x])"
   ]
  },
  {
   "cell_type": "markdown",
   "metadata": {},
   "source": [
    "## Series"
   ]
  },
  {
   "cell_type": "code",
   "execution_count": 13,
   "metadata": {},
   "outputs": [],
   "source": [
    "import pandas as pd"
   ]
  },
  {
   "cell_type": "code",
   "execution_count": 14,
   "metadata": {},
   "outputs": [],
   "source": [
    "ice_cream = ['strawberry','mango','chocolate','blueberry','peanut']"
   ]
  },
  {
   "cell_type": "code",
   "execution_count": 15,
   "metadata": {},
   "outputs": [
    {
     "data": {
      "text/plain": [
       "0    strawberry\n",
       "1         mango\n",
       "2     chocolate\n",
       "3     blueberry\n",
       "4        peanut\n",
       "dtype: object"
      ]
     },
     "execution_count": 15,
     "metadata": {},
     "output_type": "execute_result"
    }
   ],
   "source": [
    "pd.Series(ice_cream)"
   ]
  },
  {
   "cell_type": "code",
   "execution_count": 16,
   "metadata": {},
   "outputs": [],
   "source": [
    "lottery = [1,3,4,5,8,15]"
   ]
  },
  {
   "cell_type": "code",
   "execution_count": 17,
   "metadata": {},
   "outputs": [
    {
     "data": {
      "text/plain": [
       "0     1\n",
       "1     3\n",
       "2     4\n",
       "3     5\n",
       "4     8\n",
       "5    15\n",
       "dtype: int64"
      ]
     },
     "execution_count": 17,
     "metadata": {},
     "output_type": "execute_result"
    }
   ],
   "source": [
    "pd.Series(lottery)"
   ]
  },
  {
   "cell_type": "code",
   "execution_count": 18,
   "metadata": {},
   "outputs": [
    {
     "data": {
      "text/plain": [
       "0     True\n",
       "1    False\n",
       "2     True\n",
       "3     True\n",
       "dtype: bool"
      ]
     },
     "execution_count": 18,
     "metadata": {},
     "output_type": "execute_result"
    }
   ],
   "source": [
    "registration = [True,False,True,True]\n",
    "pd.Series(registration)"
   ]
  },
  {
   "cell_type": "code",
   "execution_count": 19,
   "metadata": {},
   "outputs": [
    {
     "data": {
      "text/plain": [
       "A    an animal\n",
       "B      a color\n",
       "C      a fruit\n",
       "dtype: object"
      ]
     },
     "execution_count": 19,
     "metadata": {},
     "output_type": "execute_result"
    }
   ],
   "source": [
    "dictionary = {'A':'an animal',\n",
    "              'B':'a color',\n",
    "              'C':'a fruit',\n",
    "             }\n",
    "pd.Series(dictionary)"
   ]
  },
  {
   "cell_type": "code",
   "execution_count": 20,
   "metadata": {},
   "outputs": [
    {
     "data": {
      "text/plain": [
       "0       smart\n",
       "1    charming\n",
       "2      humble\n",
       "dtype: object"
      ]
     },
     "execution_count": 20,
     "metadata": {},
     "output_type": "execute_result"
    }
   ],
   "source": [
    "about_me = ['smart','charming','humble']\n",
    "s = pd.Series(about_me)\n",
    "s"
   ]
  },
  {
   "cell_type": "code",
   "execution_count": 21,
   "metadata": {},
   "outputs": [
    {
     "data": {
      "text/plain": [
       "array(['smart', 'charming', 'humble'], dtype=object)"
      ]
     },
     "execution_count": 21,
     "metadata": {},
     "output_type": "execute_result"
    }
   ],
   "source": [
    "s.values"
   ]
  },
  {
   "cell_type": "code",
   "execution_count": 22,
   "metadata": {},
   "outputs": [
    {
     "data": {
      "text/plain": [
       "RangeIndex(start=0, stop=3, step=1)"
      ]
     },
     "execution_count": 22,
     "metadata": {},
     "output_type": "execute_result"
    }
   ],
   "source": [
    "s.index"
   ]
  },
  {
   "cell_type": "code",
   "execution_count": 23,
   "metadata": {},
   "outputs": [
    {
     "data": {
      "text/plain": [
       "dtype('O')"
      ]
     },
     "execution_count": 23,
     "metadata": {},
     "output_type": "execute_result"
    }
   ],
   "source": [
    "s.dtype"
   ]
  },
  {
   "cell_type": "code",
   "execution_count": 24,
   "metadata": {},
   "outputs": [
    {
     "data": {
      "text/plain": [
       "294"
      ]
     },
     "execution_count": 24,
     "metadata": {},
     "output_type": "execute_result"
    }
   ],
   "source": [
    "prices = [120,99,30,45]\n",
    "s = pd.Series(prices)\n",
    "s.sum()"
   ]
  },
  {
   "cell_type": "code",
   "execution_count": 25,
   "metadata": {},
   "outputs": [
    {
     "data": {
      "text/plain": [
       "16038000"
      ]
     },
     "execution_count": 25,
     "metadata": {},
     "output_type": "execute_result"
    }
   ],
   "source": [
    "s.product()"
   ]
  },
  {
   "cell_type": "code",
   "execution_count": 26,
   "metadata": {},
   "outputs": [
    {
     "data": {
      "text/plain": [
       "73.5"
      ]
     },
     "execution_count": 26,
     "metadata": {},
     "output_type": "execute_result"
    }
   ],
   "source": [
    "s.mean()"
   ]
  },
  {
   "cell_type": "code",
   "execution_count": 27,
   "metadata": {},
   "outputs": [
    {
     "data": {
      "text/plain": [
       "1       monday\n",
       "2      Tuesday\n",
       "3    Wednesday\n",
       "4     Thursday\n",
       "5       Friday\n",
       "6     Saturday\n",
       "7       sunday\n",
       "dtype: object"
      ]
     },
     "execution_count": 27,
     "metadata": {},
     "output_type": "execute_result"
    }
   ],
   "source": [
    "num = ['1','2','3','4','5','6','7']\n",
    "weekdays =['monday','Tuesday','Wednesday','Thursday','Friday','Saturday','sunday']\n",
    "\n",
    "#week = pd.Series(weekdays,num)\n",
    "pd.Series(data=weekdays,index=num)"
   ]
  },
  {
   "cell_type": "markdown",
   "metadata": {},
   "source": [
    "## Series read file"
   ]
  },
  {
   "cell_type": "code",
   "execution_count": 28,
   "metadata": {},
   "outputs": [
    {
     "data": {
      "text/plain": [
       "0       Bulbasaur\n",
       "1         Ivysaur\n",
       "2        Venusaur\n",
       "3      Charmander\n",
       "4      Charmeleon\n",
       "5       Charizard\n",
       "6        Squirtle\n",
       "7       Wartortle\n",
       "8       Blastoise\n",
       "9        Caterpie\n",
       "10        Metapod\n",
       "11     Butterfree\n",
       "12         Weedle\n",
       "13         Kakuna\n",
       "14       Beedrill\n",
       "15         Pidgey\n",
       "16      Pidgeotto\n",
       "17        Pidgeot\n",
       "18        Rattata\n",
       "19       Raticate\n",
       "20        Spearow\n",
       "21         Fearow\n",
       "22          Ekans\n",
       "23          Arbok\n",
       "24        Pikachu\n",
       "25         Raichu\n",
       "26      Sandshrew\n",
       "27      Sandslash\n",
       "28        Nidoran\n",
       "29       Nidorina\n",
       "          ...    \n",
       "691     Clauncher\n",
       "692     Clawitzer\n",
       "693    Helioptile\n",
       "694     Heliolisk\n",
       "695        Tyrunt\n",
       "696     Tyrantrum\n",
       "697        Amaura\n",
       "698       Aurorus\n",
       "699       Sylveon\n",
       "700      Hawlucha\n",
       "701       Dedenne\n",
       "702       Carbink\n",
       "703         Goomy\n",
       "704       Sliggoo\n",
       "705        Goodra\n",
       "706        Klefki\n",
       "707      Phantump\n",
       "708     Trevenant\n",
       "709     Pumpkaboo\n",
       "710     Gourgeist\n",
       "711      Bergmite\n",
       "712       Avalugg\n",
       "713        Noibat\n",
       "714       Noivern\n",
       "715       Xerneas\n",
       "716       Yveltal\n",
       "717       Zygarde\n",
       "718       Diancie\n",
       "719         Hoopa\n",
       "720     Volcanion\n",
       "Name: Pokemon, Length: 721, dtype: object"
      ]
     },
     "execution_count": 28,
     "metadata": {},
     "output_type": "execute_result"
    }
   ],
   "source": [
    "import pandas as pd\n",
    "pokemon = pd.read_csv(\"pandas/pokemon.csv\",usecols=[\"Pokemon\"],squeeze=True)\n",
    "pokemon"
   ]
  },
  {
   "cell_type": "code",
   "execution_count": 29,
   "metadata": {},
   "outputs": [],
   "source": [
    "google = pd.read_csv(\"pandas/google_stock_price.csv\",squeeze=True)"
   ]
  },
  {
   "cell_type": "code",
   "execution_count": 30,
   "metadata": {},
   "outputs": [
    {
     "data": {
      "text/plain": [
       "3012"
      ]
     },
     "execution_count": 30,
     "metadata": {},
     "output_type": "execute_result"
    }
   ],
   "source": [
    "len(google)"
   ]
  },
  {
   "cell_type": "code",
   "execution_count": 31,
   "metadata": {},
   "outputs": [],
   "source": [
    "#for x in google:\n",
    "   # print (x)"
   ]
  },
  {
   "cell_type": "code",
   "execution_count": 32,
   "metadata": {},
   "outputs": [
    {
     "data": {
      "text/plain": [
       "0     Bulbasaur\n",
       "1       Ivysaur\n",
       "2      Venusaur\n",
       "3    Charmander\n",
       "4    Charmeleon\n",
       "5     Charizard\n",
       "6      Squirtle\n",
       "7     Wartortle\n",
       "8     Blastoise\n",
       "9      Caterpie\n",
       "Name: Pokemon, dtype: object"
      ]
     },
     "execution_count": 32,
     "metadata": {},
     "output_type": "execute_result"
    }
   ],
   "source": [
    "pokemon.head(n=10)"
   ]
  },
  {
   "cell_type": "code",
   "execution_count": 33,
   "metadata": {},
   "outputs": [
    {
     "data": {
      "text/plain": [
       "716      Yveltal\n",
       "717      Zygarde\n",
       "718      Diancie\n",
       "719        Hoopa\n",
       "720    Volcanion\n",
       "Name: Pokemon, dtype: object"
      ]
     },
     "execution_count": 33,
     "metadata": {},
     "output_type": "execute_result"
    }
   ],
   "source": [
    "pokemon.tail(5)"
   ]
  },
  {
   "cell_type": "code",
   "execution_count": 34,
   "metadata": {},
   "outputs": [
    {
     "data": {
      "text/plain": [
       "{0: 'Bulbasaur',\n",
       " 1: 'Ivysaur',\n",
       " 2: 'Venusaur',\n",
       " 3: 'Charmander',\n",
       " 4: 'Charmeleon',\n",
       " 5: 'Charizard',\n",
       " 6: 'Squirtle',\n",
       " 7: 'Wartortle',\n",
       " 8: 'Blastoise',\n",
       " 9: 'Caterpie',\n",
       " 10: 'Metapod',\n",
       " 11: 'Butterfree',\n",
       " 12: 'Weedle',\n",
       " 13: 'Kakuna',\n",
       " 14: 'Beedrill',\n",
       " 15: 'Pidgey',\n",
       " 16: 'Pidgeotto',\n",
       " 17: 'Pidgeot',\n",
       " 18: 'Rattata',\n",
       " 19: 'Raticate',\n",
       " 20: 'Spearow',\n",
       " 21: 'Fearow',\n",
       " 22: 'Ekans',\n",
       " 23: 'Arbok',\n",
       " 24: 'Pikachu',\n",
       " 25: 'Raichu',\n",
       " 26: 'Sandshrew',\n",
       " 27: 'Sandslash',\n",
       " 28: 'Nidoran',\n",
       " 29: 'Nidorina',\n",
       " 30: 'Nidoqueen',\n",
       " 31: 'Nidoran♂',\n",
       " 32: 'Nidorino',\n",
       " 33: 'Nidoking',\n",
       " 34: 'Clefairy',\n",
       " 35: 'Clefable',\n",
       " 36: 'Vulpix',\n",
       " 37: 'Ninetales',\n",
       " 38: 'Jigglypuff',\n",
       " 39: 'Wigglytuff',\n",
       " 40: 'Zubat',\n",
       " 41: 'Golbat',\n",
       " 42: 'Oddish',\n",
       " 43: 'Gloom',\n",
       " 44: 'Vileplume',\n",
       " 45: 'Paras',\n",
       " 46: 'Parasect',\n",
       " 47: 'Venonat',\n",
       " 48: 'Venomoth',\n",
       " 49: 'Diglett',\n",
       " 50: 'Dugtrio',\n",
       " 51: 'Meowth',\n",
       " 52: 'Persian',\n",
       " 53: 'Psyduck',\n",
       " 54: 'Golduck',\n",
       " 55: 'Mankey',\n",
       " 56: 'Primeape',\n",
       " 57: 'Growlithe',\n",
       " 58: 'Arcanine',\n",
       " 59: 'Poliwag',\n",
       " 60: 'Poliwhirl',\n",
       " 61: 'Poliwrath',\n",
       " 62: 'Abra',\n",
       " 63: 'Kadabra',\n",
       " 64: 'Alakazam',\n",
       " 65: 'Machop',\n",
       " 66: 'Machoke',\n",
       " 67: 'Machamp',\n",
       " 68: 'Bellsprout',\n",
       " 69: 'Weepinbell',\n",
       " 70: 'Victreebel',\n",
       " 71: 'Tentacool',\n",
       " 72: 'Tentacruel',\n",
       " 73: 'Geodude',\n",
       " 74: 'Graveler',\n",
       " 75: 'Golem',\n",
       " 76: 'Ponyta',\n",
       " 77: 'Rapidash',\n",
       " 78: 'Slowpoke',\n",
       " 79: 'Slowbro',\n",
       " 80: 'Magnemite',\n",
       " 81: 'Magneton',\n",
       " 82: \"Farfetch'd\",\n",
       " 83: 'Doduo',\n",
       " 84: 'Dodrio',\n",
       " 85: 'Seel',\n",
       " 86: 'Dewgong',\n",
       " 87: 'Grimer',\n",
       " 88: 'Muk',\n",
       " 89: 'Shellder',\n",
       " 90: 'Cloyster',\n",
       " 91: 'Gastly',\n",
       " 92: 'Haunter',\n",
       " 93: 'Gengar',\n",
       " 94: 'Onix',\n",
       " 95: 'Drowzee',\n",
       " 96: 'Hypno',\n",
       " 97: 'Krabby',\n",
       " 98: 'Kingler',\n",
       " 99: 'Voltorb',\n",
       " 100: 'Electrode',\n",
       " 101: 'Exeggcute',\n",
       " 102: 'Exeggutor',\n",
       " 103: 'Cubone',\n",
       " 104: 'Marowak',\n",
       " 105: 'Hitmonlee',\n",
       " 106: 'Hitmonchan',\n",
       " 107: 'Lickitung',\n",
       " 108: 'Koffing',\n",
       " 109: 'Weezing',\n",
       " 110: 'Rhyhorn',\n",
       " 111: 'Rhydon',\n",
       " 112: 'Chansey',\n",
       " 113: 'Tangela',\n",
       " 114: 'Kangaskhan',\n",
       " 115: 'Horsea',\n",
       " 116: 'Seadra',\n",
       " 117: 'Goldeen',\n",
       " 118: 'Seaking',\n",
       " 119: 'Staryu',\n",
       " 120: 'Starmie',\n",
       " 121: 'Mr. Mime',\n",
       " 122: 'Scyther',\n",
       " 123: 'Jynx',\n",
       " 124: 'Electabuzz',\n",
       " 125: 'Magmar',\n",
       " 126: 'Pinsir',\n",
       " 127: 'Tauros',\n",
       " 128: 'Magikarp',\n",
       " 129: 'Gyarados',\n",
       " 130: 'Lapras',\n",
       " 131: 'Ditto',\n",
       " 132: 'Eevee',\n",
       " 133: 'Vaporeon',\n",
       " 134: 'Jolteon',\n",
       " 135: 'Flareon',\n",
       " 136: 'Porygon',\n",
       " 137: 'Omanyte',\n",
       " 138: 'Omastar',\n",
       " 139: 'Kabuto',\n",
       " 140: 'Kabutops',\n",
       " 141: 'Aerodactyl',\n",
       " 142: 'Snorlax',\n",
       " 143: 'Articuno',\n",
       " 144: 'Zapdos',\n",
       " 145: 'Moltres',\n",
       " 146: 'Dratini',\n",
       " 147: 'Dragonair',\n",
       " 148: 'Dragonite',\n",
       " 149: 'Mewtwo',\n",
       " 150: 'Mew',\n",
       " 151: 'Chikorita',\n",
       " 152: 'Bayleef',\n",
       " 153: 'Meganium',\n",
       " 154: 'Cyndaquil',\n",
       " 155: 'Quilava',\n",
       " 156: 'Typhlosion',\n",
       " 157: 'Totodile',\n",
       " 158: 'Croconaw',\n",
       " 159: 'Feraligatr',\n",
       " 160: 'Sentret',\n",
       " 161: 'Furret',\n",
       " 162: 'Hoothoot',\n",
       " 163: 'Noctowl',\n",
       " 164: 'Ledyba',\n",
       " 165: 'Ledian',\n",
       " 166: 'Spinarak',\n",
       " 167: 'Ariados',\n",
       " 168: 'Crobat',\n",
       " 169: 'Chinchou',\n",
       " 170: 'Lanturn',\n",
       " 171: 'Pichu',\n",
       " 172: 'Cleffa',\n",
       " 173: 'Igglybuff',\n",
       " 174: 'Togepi',\n",
       " 175: 'Togetic',\n",
       " 176: 'Natu',\n",
       " 177: 'Xatu',\n",
       " 178: 'Mareep',\n",
       " 179: 'Flaaffy',\n",
       " 180: 'Ampharos',\n",
       " 181: 'Bellossom',\n",
       " 182: 'Marill',\n",
       " 183: 'Azumarill',\n",
       " 184: 'Sudowoodo',\n",
       " 185: 'Politoed',\n",
       " 186: 'Hoppip',\n",
       " 187: 'Skiploom',\n",
       " 188: 'Jumpluff',\n",
       " 189: 'Aipom',\n",
       " 190: 'Sunkern',\n",
       " 191: 'Sunflora',\n",
       " 192: 'Yanma',\n",
       " 193: 'Wooper',\n",
       " 194: 'Quagsire',\n",
       " 195: 'Espeon',\n",
       " 196: 'Umbreon',\n",
       " 197: 'Murkrow',\n",
       " 198: 'Slowking',\n",
       " 199: 'Misdreavus',\n",
       " 200: 'Unown',\n",
       " 201: 'Wobbuffet',\n",
       " 202: 'Girafarig',\n",
       " 203: 'Pineco',\n",
       " 204: 'Forretress',\n",
       " 205: 'Dunsparce',\n",
       " 206: 'Gligar',\n",
       " 207: 'Steelix',\n",
       " 208: 'Snubbull',\n",
       " 209: 'Granbull',\n",
       " 210: 'Qwilfish',\n",
       " 211: 'Scizor',\n",
       " 212: 'Shuckle',\n",
       " 213: 'Heracross',\n",
       " 214: 'Sneasel',\n",
       " 215: 'Teddiursa',\n",
       " 216: 'Ursaring',\n",
       " 217: 'Slugma',\n",
       " 218: 'Magcargo',\n",
       " 219: 'Swinub',\n",
       " 220: 'Piloswine',\n",
       " 221: 'Corsola',\n",
       " 222: 'Remoraid',\n",
       " 223: 'Octillery',\n",
       " 224: 'Delibird',\n",
       " 225: 'Mantine',\n",
       " 226: 'Skarmory',\n",
       " 227: 'Houndour',\n",
       " 228: 'Houndoom',\n",
       " 229: 'Kingdra',\n",
       " 230: 'Phanpy',\n",
       " 231: 'Donphan',\n",
       " 232: 'Porygon2',\n",
       " 233: 'Stantler',\n",
       " 234: 'Smeargle',\n",
       " 235: 'Tyrogue',\n",
       " 236: 'Hitmontop',\n",
       " 237: 'Smoochum',\n",
       " 238: 'Elekid',\n",
       " 239: 'Magby',\n",
       " 240: 'Miltank',\n",
       " 241: 'Blissey',\n",
       " 242: 'Raikou',\n",
       " 243: 'Entei',\n",
       " 244: 'Suicune',\n",
       " 245: 'Larvitar',\n",
       " 246: 'Pupitar',\n",
       " 247: 'Tyranitar',\n",
       " 248: 'Lugia',\n",
       " 249: 'Ho-oh',\n",
       " 250: 'Celebi',\n",
       " 251: 'Treecko',\n",
       " 252: 'Grovyle',\n",
       " 253: 'Sceptile',\n",
       " 254: 'Torchic',\n",
       " 255: 'Combusken',\n",
       " 256: 'Blaziken',\n",
       " 257: 'Mudkip',\n",
       " 258: 'Marshtomp',\n",
       " 259: 'Swampert',\n",
       " 260: 'Poochyena',\n",
       " 261: 'Mightyena',\n",
       " 262: 'Zigzagoon',\n",
       " 263: 'Linoone',\n",
       " 264: 'Wurmple',\n",
       " 265: 'Silcoon',\n",
       " 266: 'Beautifly',\n",
       " 267: 'Cascoon',\n",
       " 268: 'Dustox',\n",
       " 269: 'Lotad',\n",
       " 270: 'Lombre',\n",
       " 271: 'Ludicolo',\n",
       " 272: 'Seedot',\n",
       " 273: 'Nuzleaf',\n",
       " 274: 'Shiftry',\n",
       " 275: 'Taillow',\n",
       " 276: 'Swellow',\n",
       " 277: 'Wingull',\n",
       " 278: 'Pelipper',\n",
       " 279: 'Ralts',\n",
       " 280: 'Kirlia',\n",
       " 281: 'Gardevoir',\n",
       " 282: 'Surskit',\n",
       " 283: 'Masquerain',\n",
       " 284: 'Shroomish',\n",
       " 285: 'Breloom',\n",
       " 286: 'Slakoth',\n",
       " 287: 'Vigoroth',\n",
       " 288: 'Slaking',\n",
       " 289: 'Nincada',\n",
       " 290: 'Ninjask',\n",
       " 291: 'Shedinja',\n",
       " 292: 'Whismur',\n",
       " 293: 'Loudred',\n",
       " 294: 'Exploud',\n",
       " 295: 'Makuhita',\n",
       " 296: 'Hariyama',\n",
       " 297: 'Azurill',\n",
       " 298: 'Nosepass',\n",
       " 299: 'Skitty',\n",
       " 300: 'Delcatty',\n",
       " 301: 'Sableye',\n",
       " 302: 'Mawile',\n",
       " 303: 'Aron',\n",
       " 304: 'Lairon',\n",
       " 305: 'Aggron',\n",
       " 306: 'Meditite',\n",
       " 307: 'Medicham',\n",
       " 308: 'Electrike',\n",
       " 309: 'Manectric',\n",
       " 310: 'Plusle',\n",
       " 311: 'Minun',\n",
       " 312: 'Volbeat',\n",
       " 313: 'Illumise',\n",
       " 314: 'Roselia',\n",
       " 315: 'Gulpin',\n",
       " 316: 'Swalot',\n",
       " 317: 'Carvanha',\n",
       " 318: 'Sharpedo',\n",
       " 319: 'Wailmer',\n",
       " 320: 'Wailord',\n",
       " 321: 'Numel',\n",
       " 322: 'Camerupt',\n",
       " 323: 'Torkoal',\n",
       " 324: 'Spoink',\n",
       " 325: 'Grumpig',\n",
       " 326: 'Spinda',\n",
       " 327: 'Trapinch',\n",
       " 328: 'Vibrava',\n",
       " 329: 'Flygon',\n",
       " 330: 'Cacnea',\n",
       " 331: 'Cacturne',\n",
       " 332: 'Swablu',\n",
       " 333: 'Altaria',\n",
       " 334: 'Zangoose',\n",
       " 335: 'Seviper',\n",
       " 336: 'Lunatone',\n",
       " 337: 'Solrock',\n",
       " 338: 'Barboach',\n",
       " 339: 'Whiscash',\n",
       " 340: 'Corphish',\n",
       " 341: 'Crawdaunt',\n",
       " 342: 'Baltoy',\n",
       " 343: 'Claydol',\n",
       " 344: 'Lileep',\n",
       " 345: 'Cradily',\n",
       " 346: 'Anorith',\n",
       " 347: 'Armaldo',\n",
       " 348: 'Feebas',\n",
       " 349: 'Milotic',\n",
       " 350: 'Castform',\n",
       " 351: 'Kecleon',\n",
       " 352: 'Shuppet',\n",
       " 353: 'Banette',\n",
       " 354: 'Duskull',\n",
       " 355: 'Dusclops',\n",
       " 356: 'Tropius',\n",
       " 357: 'Chimecho',\n",
       " 358: 'Absol',\n",
       " 359: 'Wynaut',\n",
       " 360: 'Snorunt',\n",
       " 361: 'Glalie',\n",
       " 362: 'Spheal',\n",
       " 363: 'Sealeo',\n",
       " 364: 'Walrein',\n",
       " 365: 'Clamperl',\n",
       " 366: 'Huntail',\n",
       " 367: 'Gorebyss',\n",
       " 368: 'Relicanth',\n",
       " 369: 'Luvdisc',\n",
       " 370: 'Bagon',\n",
       " 371: 'Shelgon',\n",
       " 372: 'Salamence',\n",
       " 373: 'Beldum',\n",
       " 374: 'Metang',\n",
       " 375: 'Metagross',\n",
       " 376: 'Regirock',\n",
       " 377: 'Regice',\n",
       " 378: 'Registeel',\n",
       " 379: 'Latias',\n",
       " 380: 'Latios',\n",
       " 381: 'Kyogre',\n",
       " 382: 'Groudon',\n",
       " 383: 'Rayquaza',\n",
       " 384: 'Jirachi',\n",
       " 385: 'Deoxys',\n",
       " 386: 'Turtwig',\n",
       " 387: 'Grotle',\n",
       " 388: 'Torterra',\n",
       " 389: 'Chimchar',\n",
       " 390: 'Monferno',\n",
       " 391: 'Infernape',\n",
       " 392: 'Piplup',\n",
       " 393: 'Prinplup',\n",
       " 394: 'Empoleon',\n",
       " 395: 'Starly',\n",
       " 396: 'Staravia',\n",
       " 397: 'Staraptor',\n",
       " 398: 'Bidoof',\n",
       " 399: 'Bibarel',\n",
       " 400: 'Kricketot',\n",
       " 401: 'Kricketune',\n",
       " 402: 'Shinx',\n",
       " 403: 'Luxio',\n",
       " 404: 'Luxray',\n",
       " 405: 'Budew',\n",
       " 406: 'Roserade',\n",
       " 407: 'Cranidos',\n",
       " 408: 'Rampardos',\n",
       " 409: 'Shieldon',\n",
       " 410: 'Bastiodon',\n",
       " 411: 'Burmy',\n",
       " 412: 'Wormadam',\n",
       " 413: 'Mothim',\n",
       " 414: 'Combee',\n",
       " 415: 'Vespiquen',\n",
       " 416: 'Pachirisu',\n",
       " 417: 'Buizel',\n",
       " 418: 'Floatzel',\n",
       " 419: 'Cherubi',\n",
       " 420: 'Cherrim',\n",
       " 421: 'Shellos',\n",
       " 422: 'Gastrodon',\n",
       " 423: 'Ambipom',\n",
       " 424: 'Drifloon',\n",
       " 425: 'Drifblim',\n",
       " 426: 'Buneary',\n",
       " 427: 'Lopunny',\n",
       " 428: 'Mismagius',\n",
       " 429: 'Honchkrow',\n",
       " 430: 'Glameow',\n",
       " 431: 'Purugly',\n",
       " 432: 'Chingling',\n",
       " 433: 'Stunky',\n",
       " 434: 'Skuntank',\n",
       " 435: 'Bronzor',\n",
       " 436: 'Bronzong',\n",
       " 437: 'Bonsly',\n",
       " 438: 'Mime Jr.',\n",
       " 439: 'Happiny',\n",
       " 440: 'Chatot',\n",
       " 441: 'Spiritomb',\n",
       " 442: 'Gible',\n",
       " 443: 'Gabite',\n",
       " 444: 'Garchomp',\n",
       " 445: 'Munchlax',\n",
       " 446: 'Riolu',\n",
       " 447: 'Lucario',\n",
       " 448: 'Hippopotas',\n",
       " 449: 'Hippowdon',\n",
       " 450: 'Skorupi',\n",
       " 451: 'Drapion',\n",
       " 452: 'Croagunk',\n",
       " 453: 'Toxicroak',\n",
       " 454: 'Carnivine',\n",
       " 455: 'Finneon',\n",
       " 456: 'Lumineon',\n",
       " 457: 'Mantyke',\n",
       " 458: 'Snover',\n",
       " 459: 'Abomasnow',\n",
       " 460: 'Weavile',\n",
       " 461: 'Magnezone',\n",
       " 462: 'Lickilicky',\n",
       " 463: 'Rhyperior',\n",
       " 464: 'Tangrowth',\n",
       " 465: 'Electivire',\n",
       " 466: 'Magmortar',\n",
       " 467: 'Togekiss',\n",
       " 468: 'Yanmega',\n",
       " 469: 'Leafeon',\n",
       " 470: 'Glaceon',\n",
       " 471: 'Gliscor',\n",
       " 472: 'Mamoswine',\n",
       " 473: 'Porygon-Z',\n",
       " 474: 'Gallade',\n",
       " 475: 'Probopass',\n",
       " 476: 'Dusknoir',\n",
       " 477: 'Froslass',\n",
       " 478: 'Rotom',\n",
       " 479: 'Uxie',\n",
       " 480: 'Mesprit',\n",
       " 481: 'Azelf',\n",
       " 482: 'Dialga',\n",
       " 483: 'Palkia',\n",
       " 484: 'Heatran',\n",
       " 485: 'Regigigas',\n",
       " 486: 'Giratina',\n",
       " 487: 'Cresselia',\n",
       " 488: 'Phione',\n",
       " 489: 'Manaphy',\n",
       " 490: 'Darkrai',\n",
       " 491: 'Shaymin',\n",
       " 492: 'Arceus',\n",
       " 493: 'Victini',\n",
       " 494: 'Snivy',\n",
       " 495: 'Servine',\n",
       " 496: 'Serperior',\n",
       " 497: 'Tepig',\n",
       " 498: 'Pignite',\n",
       " 499: 'Emboar',\n",
       " 500: 'Oshawott',\n",
       " 501: 'Dewott',\n",
       " 502: 'Samurott',\n",
       " 503: 'Patrat',\n",
       " 504: 'Watchog',\n",
       " 505: 'Lillipup',\n",
       " 506: 'Herdier',\n",
       " 507: 'Stoutland',\n",
       " 508: 'Purrloin',\n",
       " 509: 'Liepard',\n",
       " 510: 'Pansage',\n",
       " 511: 'Simisage',\n",
       " 512: 'Pansear',\n",
       " 513: 'Simisear',\n",
       " 514: 'Panpour',\n",
       " 515: 'Simipour',\n",
       " 516: 'Munna',\n",
       " 517: 'Musharna',\n",
       " 518: 'Pidove',\n",
       " 519: 'Tranquill',\n",
       " 520: 'Unfezant',\n",
       " 521: 'Blitzle',\n",
       " 522: 'Zebstrika',\n",
       " 523: 'Roggenrola',\n",
       " 524: 'Boldore',\n",
       " 525: 'Gigalith',\n",
       " 526: 'Woobat',\n",
       " 527: 'Swoobat',\n",
       " 528: 'Drilbur',\n",
       " 529: 'Excadrill',\n",
       " 530: 'Audino',\n",
       " 531: 'Timburr',\n",
       " 532: 'Gurdurr',\n",
       " 533: 'Conkeldurr',\n",
       " 534: 'Tympole',\n",
       " 535: 'Palpitoad',\n",
       " 536: 'Seismitoad',\n",
       " 537: 'Throh',\n",
       " 538: 'Sawk',\n",
       " 539: 'Sewaddle',\n",
       " 540: 'Swadloon',\n",
       " 541: 'Leavanny',\n",
       " 542: 'Venipede',\n",
       " 543: 'Whirlipede',\n",
       " 544: 'Scolipede',\n",
       " 545: 'Cottonee',\n",
       " 546: 'Whimsicott',\n",
       " 547: 'Petilil',\n",
       " 548: 'Lilligant',\n",
       " 549: 'Basculin',\n",
       " 550: 'Sandile',\n",
       " 551: 'Krokorok',\n",
       " 552: 'Krookodile',\n",
       " 553: 'Darumaka',\n",
       " 554: 'Darmanitan',\n",
       " 555: 'Maractus',\n",
       " 556: 'Dwebble',\n",
       " 557: 'Crustle',\n",
       " 558: 'Scraggy',\n",
       " 559: 'Scrafty',\n",
       " 560: 'Sigilyph',\n",
       " 561: 'Yamask',\n",
       " 562: 'Cofagrigus',\n",
       " 563: 'Tirtouga',\n",
       " 564: 'Carracosta',\n",
       " 565: 'Archen',\n",
       " 566: 'Archeops',\n",
       " 567: 'Trubbish',\n",
       " 568: 'Garbodor',\n",
       " 569: 'Zorua',\n",
       " 570: 'Zoroark',\n",
       " 571: 'Minccino',\n",
       " 572: 'Cinccino',\n",
       " 573: 'Gothita',\n",
       " 574: 'Gothorita',\n",
       " 575: 'Gothitelle',\n",
       " 576: 'Solosis',\n",
       " 577: 'Duosion',\n",
       " 578: 'Reuniclus',\n",
       " 579: 'Ducklett',\n",
       " 580: 'Swanna',\n",
       " 581: 'Vanillite',\n",
       " 582: 'Vanillish',\n",
       " 583: 'Vanilluxe',\n",
       " 584: 'Deerling',\n",
       " 585: 'Sawsbuck',\n",
       " 586: 'Emolga',\n",
       " 587: 'Karrablast',\n",
       " 588: 'Escavalier',\n",
       " 589: 'Foongus',\n",
       " 590: 'Amoonguss',\n",
       " 591: 'Frillish',\n",
       " 592: 'Jellicent',\n",
       " 593: 'Alomomola',\n",
       " 594: 'Joltik',\n",
       " 595: 'Galvantula',\n",
       " 596: 'Ferroseed',\n",
       " 597: 'Ferrothorn',\n",
       " 598: 'Klink',\n",
       " 599: 'Klang',\n",
       " 600: 'Klinklang',\n",
       " 601: 'Tynamo',\n",
       " 602: 'Eelektrik',\n",
       " 603: 'Eelektross',\n",
       " 604: 'Elgyem',\n",
       " 605: 'Beheeyem',\n",
       " 606: 'Litwick',\n",
       " 607: 'Lampent',\n",
       " 608: 'Chandelure',\n",
       " 609: 'Axew',\n",
       " 610: 'Fraxure',\n",
       " 611: 'Haxorus',\n",
       " 612: 'Cubchoo',\n",
       " 613: 'Beartic',\n",
       " 614: 'Cryogonal',\n",
       " 615: 'Shelmet',\n",
       " 616: 'Accelgor',\n",
       " 617: 'Stunfisk',\n",
       " 618: 'Mienfoo',\n",
       " 619: 'Mienshao',\n",
       " 620: 'Druddigon',\n",
       " 621: 'Golett',\n",
       " 622: 'Golurk',\n",
       " 623: 'Pawniard',\n",
       " 624: 'Bisharp',\n",
       " 625: 'Bouffalant',\n",
       " 626: 'Rufflet',\n",
       " 627: 'Braviary',\n",
       " 628: 'Vullaby',\n",
       " 629: 'Mandibuzz',\n",
       " 630: 'Heatmor',\n",
       " 631: 'Durant',\n",
       " 632: 'Deino',\n",
       " 633: 'Zweilous',\n",
       " 634: 'Hydreigon',\n",
       " 635: 'Larvesta',\n",
       " 636: 'Volcarona',\n",
       " 637: 'Cobalion',\n",
       " 638: 'Terrakion',\n",
       " 639: 'Virizion',\n",
       " 640: 'Tornadus',\n",
       " 641: 'Thundurus',\n",
       " 642: 'Reshiram',\n",
       " 643: 'Zekrom',\n",
       " 644: 'Landorus',\n",
       " 645: 'Kyurem',\n",
       " 646: 'Keldeo',\n",
       " 647: 'Meloetta',\n",
       " 648: 'Genesect',\n",
       " 649: 'Chespin',\n",
       " 650: 'Quilladin',\n",
       " 651: 'Chesnaught',\n",
       " 652: 'Fennekin',\n",
       " 653: 'Braixen',\n",
       " 654: 'Delphox',\n",
       " 655: 'Froakie',\n",
       " 656: 'Frogadier',\n",
       " 657: 'Greninja',\n",
       " 658: 'Bunnelby',\n",
       " 659: 'Diggersby',\n",
       " 660: 'Fletchling',\n",
       " 661: 'Fletchinder',\n",
       " 662: 'Talonflame',\n",
       " 663: 'Scatterbug',\n",
       " 664: 'Spewpa',\n",
       " 665: 'Vivillon',\n",
       " 666: 'Litleo',\n",
       " 667: 'Pyroar',\n",
       " 668: 'Flabébé',\n",
       " 669: 'Floette',\n",
       " 670: 'Florges',\n",
       " 671: 'Skiddo',\n",
       " 672: 'Gogoat',\n",
       " 673: 'Pancham',\n",
       " 674: 'Pangoro',\n",
       " 675: 'Furfrou',\n",
       " 676: 'Espurr',\n",
       " 677: 'Meowstic',\n",
       " 678: 'Honedge',\n",
       " 679: 'Doublade',\n",
       " 680: 'Aegislash',\n",
       " 681: 'Spritzee',\n",
       " 682: 'Aromatisse',\n",
       " 683: 'Swirlix',\n",
       " 684: 'Slurpuff',\n",
       " 685: 'Inkay',\n",
       " 686: 'Malamar',\n",
       " 687: 'Binacle',\n",
       " 688: 'Barbaracle',\n",
       " 689: 'Skrelp',\n",
       " 690: 'Dragalge',\n",
       " 691: 'Clauncher',\n",
       " 692: 'Clawitzer',\n",
       " 693: 'Helioptile',\n",
       " 694: 'Heliolisk',\n",
       " 695: 'Tyrunt',\n",
       " 696: 'Tyrantrum',\n",
       " 697: 'Amaura',\n",
       " 698: 'Aurorus',\n",
       " 699: 'Sylveon',\n",
       " 700: 'Hawlucha',\n",
       " 701: 'Dedenne',\n",
       " 702: 'Carbink',\n",
       " 703: 'Goomy',\n",
       " 704: 'Sliggoo',\n",
       " 705: 'Goodra',\n",
       " 706: 'Klefki',\n",
       " 707: 'Phantump',\n",
       " 708: 'Trevenant',\n",
       " 709: 'Pumpkaboo',\n",
       " 710: 'Gourgeist',\n",
       " 711: 'Bergmite',\n",
       " 712: 'Avalugg',\n",
       " 713: 'Noibat',\n",
       " 714: 'Noivern',\n",
       " 715: 'Xerneas',\n",
       " 716: 'Yveltal',\n",
       " 717: 'Zygarde',\n",
       " 718: 'Diancie',\n",
       " 719: 'Hoopa',\n",
       " 720: 'Volcanion'}"
      ]
     },
     "execution_count": 34,
     "metadata": {},
     "output_type": "execute_result"
    }
   ],
   "source": [
    "sorted(pokemon)\n",
    "dir(pokemon)\n",
    "list(pokemon)\n",
    "dict(pokemon)"
   ]
  },
  {
   "cell_type": "code",
   "execution_count": 35,
   "metadata": {},
   "outputs": [
    {
     "data": {
      "text/plain": [
       "49.950000000000003"
      ]
     },
     "execution_count": 35,
     "metadata": {},
     "output_type": "execute_result"
    }
   ],
   "source": [
    "max(google)\n",
    "min(google)"
   ]
  },
  {
   "cell_type": "code",
   "execution_count": 36,
   "metadata": {},
   "outputs": [
    {
     "data": {
      "text/plain": [
       "True"
      ]
     },
     "execution_count": 36,
     "metadata": {},
     "output_type": "execute_result"
    }
   ],
   "source": [
    "pokemon.is_unique"
   ]
  },
  {
   "cell_type": "code",
   "execution_count": 37,
   "metadata": {
    "scrolled": true
   },
   "outputs": [
    {
     "data": {
      "text/plain": [
       "False"
      ]
     },
     "execution_count": 37,
     "metadata": {},
     "output_type": "execute_result"
    }
   ],
   "source": [
    "google.is_unique"
   ]
  },
  {
   "cell_type": "code",
   "execution_count": 38,
   "metadata": {},
   "outputs": [
    {
     "data": {
      "text/plain": [
       "1"
      ]
     },
     "execution_count": 38,
     "metadata": {},
     "output_type": "execute_result"
    }
   ],
   "source": [
    "pokemon.ndim"
   ]
  },
  {
   "cell_type": "code",
   "execution_count": 39,
   "metadata": {},
   "outputs": [
    {
     "data": {
      "text/plain": [
       "1"
      ]
     },
     "execution_count": 39,
     "metadata": {},
     "output_type": "execute_result"
    }
   ],
   "source": [
    "google.ndim"
   ]
  },
  {
   "cell_type": "code",
   "execution_count": 40,
   "metadata": {},
   "outputs": [
    {
     "data": {
      "text/plain": [
       "(721,)"
      ]
     },
     "execution_count": 40,
     "metadata": {},
     "output_type": "execute_result"
    }
   ],
   "source": [
    "pokemon.shape #show col num"
   ]
  },
  {
   "cell_type": "code",
   "execution_count": 41,
   "metadata": {},
   "outputs": [
    {
     "data": {
      "text/plain": [
       "721"
      ]
     },
     "execution_count": 41,
     "metadata": {},
     "output_type": "execute_result"
    }
   ],
   "source": [
    "pokemon.size"
   ]
  },
  {
   "cell_type": "code",
   "execution_count": 42,
   "metadata": {},
   "outputs": [
    {
     "data": {
      "text/plain": [
       "'Pokemon'"
      ]
     },
     "execution_count": 42,
     "metadata": {},
     "output_type": "execute_result"
    }
   ],
   "source": [
    "pokemon.name #top column header"
   ]
  },
  {
   "cell_type": "code",
   "execution_count": 43,
   "metadata": {},
   "outputs": [],
   "source": [
    "#pokemon.name = 'pocket monsters'"
   ]
  },
  {
   "cell_type": "code",
   "execution_count": 44,
   "metadata": {},
   "outputs": [
    {
     "data": {
      "text/plain": [
       "0     Bulbasaur\n",
       "1       Ivysaur\n",
       "2      Venusaur\n",
       "3    Charmander\n",
       "4    Charmeleon\n",
       "Name: Pokemon, dtype: object"
      ]
     },
     "execution_count": 44,
     "metadata": {},
     "output_type": "execute_result"
    }
   ],
   "source": [
    "pokemon.head(5)"
   ]
  },
  {
   "cell_type": "markdown",
   "metadata": {},
   "source": [
    "## .sort_value() method"
   ]
  },
  {
   "cell_type": "code",
   "execution_count": 45,
   "metadata": {},
   "outputs": [],
   "source": [
    "import pandas as pd\n",
    "pokemon = pd.read_csv(\"pandas/pokemon.csv\",usecols=[\"Pokemon\"],squeeze=True)\n",
    "google = pd.read_csv(\"pandas/google_stock_price.csv\",squeeze=True)"
   ]
  },
  {
   "cell_type": "code",
   "execution_count": 46,
   "metadata": {},
   "outputs": [
    {
     "data": {
      "text/plain": [
       "459    Abomasnow\n",
       "62          Abra\n",
       "358        Absol\n",
       "616     Accelgor\n",
       "680    Aegislash\n",
       "Name: Pokemon, dtype: object"
      ]
     },
     "execution_count": 46,
     "metadata": {},
     "output_type": "execute_result"
    }
   ],
   "source": [
    "pokemon.sort_values().head()"
   ]
  },
  {
   "cell_type": "code",
   "execution_count": 62,
   "metadata": {},
   "outputs": [],
   "source": [
    "#pokemon.sort_values(ascending=False).tail() # false -> reverse order"
   ]
  },
  {
   "cell_type": "code",
   "execution_count": 77,
   "metadata": {},
   "outputs": [],
   "source": [
    "#google.sort_values(ascending=False).head(5)"
   ]
  },
  {
   "cell_type": "code",
   "execution_count": 78,
   "metadata": {
    "scrolled": true
   },
   "outputs": [],
   "source": [
    "# google = google.sort_values(ascending=True, inplace=True)\n",
    "# google"
   ]
  },
  {
   "cell_type": "markdown",
   "metadata": {},
   "source": [
    "## .sort_index() method"
   ]
  },
  {
   "cell_type": "code",
   "execution_count": 79,
   "metadata": {},
   "outputs": [],
   "source": [
    "pokemon.sort_values(ascending=False,inplace=True)"
   ]
  },
  {
   "cell_type": "code",
   "execution_count": 80,
   "metadata": {},
   "outputs": [
    {
     "data": {
      "text/plain": [
       "717     Zygarde\n",
       "633    Zweilous\n",
       "40        Zubat\n",
       "569       Zorua\n",
       "570     Zoroark\n",
       "Name: Pokemon, dtype: object"
      ]
     },
     "execution_count": 80,
     "metadata": {},
     "output_type": "execute_result"
    }
   ],
   "source": [
    "pokemon.head()"
   ]
  },
  {
   "cell_type": "code",
   "execution_count": 81,
   "metadata": {},
   "outputs": [
    {
     "data": {
      "text/plain": [
       "0     Bulbasaur\n",
       "1       Ivysaur\n",
       "2      Venusaur\n",
       "3    Charmander\n",
       "4    Charmeleon\n",
       "Name: Pokemon, dtype: object"
      ]
     },
     "execution_count": 81,
     "metadata": {},
     "output_type": "execute_result"
    }
   ],
   "source": [
    "pokemon.sort_index().head()"
   ]
  },
  {
   "cell_type": "code",
   "execution_count": 82,
   "metadata": {},
   "outputs": [
    {
     "data": {
      "text/plain": [
       "720    Volcanion\n",
       "719        Hoopa\n",
       "718      Diancie\n",
       "717      Zygarde\n",
       "716      Yveltal\n",
       "Name: Pokemon, dtype: object"
      ]
     },
     "execution_count": 82,
     "metadata": {},
     "output_type": "execute_result"
    }
   ],
   "source": [
    "pokemon.sort_index(ascending=False).head()"
   ]
  },
  {
   "cell_type": "markdown",
   "metadata": {},
   "source": [
    "## PYTHON's in keyword"
   ]
  },
  {
   "cell_type": "code",
   "execution_count": 83,
   "metadata": {},
   "outputs": [
    {
     "data": {
      "text/plain": [
       "False"
      ]
     },
     "execution_count": 83,
     "metadata": {},
     "output_type": "execute_result"
    }
   ],
   "source": [
    "100 in [1,2,4,6]"
   ]
  },
  {
   "cell_type": "code",
   "execution_count": 84,
   "metadata": {},
   "outputs": [
    {
     "data": {
      "text/plain": [
       "717     Zygarde\n",
       "633    Zweilous\n",
       "40        Zubat\n",
       "Name: Pokemon, dtype: object"
      ]
     },
     "execution_count": 84,
     "metadata": {},
     "output_type": "execute_result"
    }
   ],
   "source": [
    "pokemon.head(3)"
   ]
  },
  {
   "cell_type": "code",
   "execution_count": 85,
   "metadata": {},
   "outputs": [
    {
     "data": {
      "text/plain": [
       "False"
      ]
     },
     "execution_count": 85,
     "metadata": {},
     "output_type": "execute_result"
    }
   ],
   "source": [
    "\"Zweilous\" in pokemon"
   ]
  },
  {
   "cell_type": "code",
   "execution_count": 86,
   "metadata": {},
   "outputs": [
    {
     "data": {
      "text/plain": [
       "True"
      ]
     },
     "execution_count": 86,
     "metadata": {},
     "output_type": "execute_result"
    }
   ],
   "source": [
    "100 in pokemon\n",
    "100 in pokemon.index"
   ]
  },
  {
   "cell_type": "code",
   "execution_count": 87,
   "metadata": {},
   "outputs": [
    {
     "data": {
      "text/plain": [
       "Int64Index([717, 633,  40, 569, 570, 262, 643, 522, 144, 334,\n",
       "            ...\n",
       "            593,  64, 189, 305, 141, 680, 616, 358,  62, 459],\n",
       "           dtype='int64', length=721)"
      ]
     },
     "execution_count": 87,
     "metadata": {},
     "output_type": "execute_result"
    }
   ],
   "source": [
    "pokemon.index"
   ]
  },
  {
   "cell_type": "code",
   "execution_count": 88,
   "metadata": {},
   "outputs": [
    {
     "data": {
      "text/plain": [
       "True"
      ]
     },
     "execution_count": 88,
     "metadata": {},
     "output_type": "execute_result"
    }
   ],
   "source": [
    "\"Zweilous\" in pokemon.values"
   ]
  },
  {
   "cell_type": "code",
   "execution_count": 89,
   "metadata": {},
   "outputs": [
    {
     "data": {
      "text/plain": [
       "1       Ivysaur\n",
       "2      Venusaur\n",
       "3    Charmander\n",
       "5     Charizard\n",
       "Name: Pokemon, dtype: object"
      ]
     },
     "execution_count": 89,
     "metadata": {},
     "output_type": "execute_result"
    }
   ],
   "source": [
    "pokemon[ [1,2,3,5] ]"
   ]
  },
  {
   "cell_type": "code",
   "execution_count": 91,
   "metadata": {},
   "outputs": [
    {
     "data": {
      "text/plain": [
       "633    Zweilous\n",
       "40        Zubat\n",
       "569       Zorua\n",
       "570     Zoroark\n",
       "Name: Pokemon, dtype: object"
      ]
     },
     "execution_count": 91,
     "metadata": {},
     "output_type": "execute_result"
    }
   ],
   "source": [
    "pokemon[1:5]"
   ]
  },
  {
   "cell_type": "code",
   "execution_count": 93,
   "metadata": {},
   "outputs": [
    {
     "data": {
      "text/plain": [
       "62          Abra\n",
       "459    Abomasnow\n",
       "Name: Pokemon, dtype: object"
      ]
     },
     "execution_count": 93,
     "metadata": {},
     "output_type": "execute_result"
    }
   ],
   "source": [
    "pokemon[-2:]"
   ]
  },
  {
   "cell_type": "code",
   "execution_count": 101,
   "metadata": {},
   "outputs": [
    {
     "data": {
      "text/plain": [
       "Pokemon\n",
       "Bulbasaur        Grass\n",
       "Ivysaur          Grass\n",
       "Venusaur         Grass\n",
       "Charmander        Fire\n",
       "Charmeleon        Fire\n",
       "Charizard         Fire\n",
       "Squirtle         Water\n",
       "Wartortle        Water\n",
       "Blastoise        Water\n",
       "Caterpie           Bug\n",
       "Metapod            Bug\n",
       "Butterfree         Bug\n",
       "Weedle             Bug\n",
       "Kakuna             Bug\n",
       "Beedrill           Bug\n",
       "Pidgey          Normal\n",
       "Pidgeotto       Normal\n",
       "Pidgeot         Normal\n",
       "Rattata         Normal\n",
       "Raticate        Normal\n",
       "Spearow         Normal\n",
       "Fearow          Normal\n",
       "Ekans           Poison\n",
       "Arbok           Poison\n",
       "Pikachu       Electric\n",
       "Raichu        Electric\n",
       "Sandshrew       Ground\n",
       "Sandslash       Ground\n",
       "Nidoran         Poison\n",
       "Nidorina        Poison\n",
       "                ...   \n",
       "Clauncher        Water\n",
       "Clawitzer        Water\n",
       "Helioptile    Electric\n",
       "Heliolisk     Electric\n",
       "Tyrunt            Rock\n",
       "Tyrantrum         Rock\n",
       "Amaura            Rock\n",
       "Aurorus           Rock\n",
       "Sylveon          Fairy\n",
       "Hawlucha      Fighting\n",
       "Dedenne       Electric\n",
       "Carbink           Rock\n",
       "Goomy           Dragon\n",
       "Sliggoo         Dragon\n",
       "Goodra          Dragon\n",
       "Klefki           Steel\n",
       "Phantump         Ghost\n",
       "Trevenant        Ghost\n",
       "Pumpkaboo        Ghost\n",
       "Gourgeist        Ghost\n",
       "Bergmite           Ice\n",
       "Avalugg            Ice\n",
       "Noibat          Flying\n",
       "Noivern         Flying\n",
       "Xerneas          Fairy\n",
       "Yveltal           Dark\n",
       "Zygarde         Dragon\n",
       "Diancie           Rock\n",
       "Hoopa          Psychic\n",
       "Volcanion         Fire\n",
       "Name: Type, Length: 721, dtype: object"
      ]
     },
     "execution_count": 101,
     "metadata": {},
     "output_type": "execute_result"
    }
   ],
   "source": [
    "pokemons =  pd.read_csv(\"pandas/pokemon.csv\", index_col=\"Pokemon\" , squeeze=True)\n",
    "pokemons"
   ]
  },
  {
   "cell_type": "code",
   "execution_count": 99,
   "metadata": {},
   "outputs": [
    {
     "data": {
      "text/plain": [
       "'Grass'"
      ]
     },
     "execution_count": 99,
     "metadata": {},
     "output_type": "execute_result"
    }
   ],
   "source": [
    "pokemons[0] # not \"Bulbasaur\" "
   ]
  },
  {
   "cell_type": "code",
   "execution_count": 102,
   "metadata": {},
   "outputs": [
    {
     "data": {
      "text/plain": [
       "Pokemon\n",
       "Ivysaur     Grass\n",
       "Venusaur    Grass\n",
       "Name: Type, dtype: object"
      ]
     },
     "execution_count": 102,
     "metadata": {},
     "output_type": "execute_result"
    }
   ],
   "source": [
    "pokemons[ [1,2] ]"
   ]
  },
  {
   "cell_type": "code",
   "execution_count": 103,
   "metadata": {},
   "outputs": [
    {
     "data": {
      "text/plain": [
       "'Grass'"
      ]
     },
     "execution_count": 103,
     "metadata": {},
     "output_type": "execute_result"
    }
   ],
   "source": [
    "pokemons[\"Ivysaur\"]"
   ]
  },
  {
   "cell_type": "code",
   "execution_count": 105,
   "metadata": {},
   "outputs": [
    {
     "data": {
      "text/plain": [
       "Pokemon\n",
       "Venusaur      Grass\n",
       "Ivysaur       Grass\n",
       "Hoopa       Psychic\n",
       "Name: Type, dtype: object"
      ]
     },
     "execution_count": 105,
     "metadata": {},
     "output_type": "execute_result"
    }
   ],
   "source": [
    "pokemons[ [\"Venusaur\",\"Ivysaur\",\"Hoopa\"]]"
   ]
  },
  {
   "cell_type": "code",
   "execution_count": 106,
   "metadata": {},
   "outputs": [
    {
     "data": {
      "text/plain": [
       "Pokemon\n",
       "Venusaur    Grass\n",
       "aaa           NaN\n",
       "Name: Type, dtype: object"
      ]
     },
     "execution_count": 106,
     "metadata": {},
     "output_type": "execute_result"
    }
   ],
   "source": [
    "pokemons[ [\"Venusaur\",\"aaa\"] ]"
   ]
  },
  {
   "cell_type": "code",
   "execution_count": 108,
   "metadata": {},
   "outputs": [
    {
     "data": {
      "text/plain": [
       "Pokemon\n",
       "Trevenant     Ghost\n",
       "Pumpkaboo     Ghost\n",
       "Gourgeist     Ghost\n",
       "Bergmite        Ice\n",
       "Avalugg         Ice\n",
       "Noibat       Flying\n",
       "Noivern      Flying\n",
       "Xerneas       Fairy\n",
       "Yveltal        Dark\n",
       "Zygarde      Dragon\n",
       "Diancie        Rock\n",
       "Name: Type, dtype: object"
      ]
     },
     "execution_count": 108,
     "metadata": {},
     "output_type": "execute_result"
    }
   ],
   "source": [
    "pokemons [\"Trevenant\":\"Diancie\"] "
   ]
  },
  {
   "cell_type": "markdown",
   "metadata": {},
   "source": [
    "## .get() method on series"
   ]
  },
  {
   "cell_type": "code",
   "execution_count": 110,
   "metadata": {},
   "outputs": [],
   "source": [
    "pokemons =  pd.read_csv(\"pandas/pokemon.csv\", index_col=\"Pokemon\" , squeeze=True)\n",
    "#pokemons"
   ]
  },
  {
   "cell_type": "code",
   "execution_count": 115,
   "metadata": {},
   "outputs": [
    {
     "data": {
      "text/plain": [
       "Pokemon\n",
       "Abomasnow      Grass\n",
       "Abra         Psychic\n",
       "Absol           Dark\n",
       "Name: Type, dtype: object"
      ]
     },
     "execution_count": 115,
     "metadata": {},
     "output_type": "execute_result"
    }
   ],
   "source": [
    "pokemons.sort_index(inplace=True)\n",
    "pokemons.head(3) #n=3"
   ]
  },
  {
   "cell_type": "code",
   "execution_count": 119,
   "metadata": {},
   "outputs": [
    {
     "data": {
      "text/plain": [
       "Pokemon\n",
       "Zygarde    Dragon\n",
       "Noivern    Flying\n",
       "Name: Type, dtype: object"
      ]
     },
     "execution_count": 119,
     "metadata": {},
     "output_type": "execute_result"
    }
   ],
   "source": [
    "pokemons.get(\"Zygarde\")\n",
    "pokemons.get([\"Zygarde\",\"Noivern\"])"
   ]
  },
  {
   "cell_type": "code",
   "execution_count": 120,
   "metadata": {},
   "outputs": [
    {
     "data": {
      "text/plain": [
       "Pokemon\n",
       "Zygarde    Dragon\n",
       "Noivern    Flying\n",
       "Name: Type, dtype: object"
      ]
     },
     "execution_count": 120,
     "metadata": {},
     "output_type": "execute_result"
    }
   ],
   "source": [
    "pokemons.get(key =[\"Zygarde\",\"Noivern\"])"
   ]
  },
  {
   "cell_type": "code",
   "execution_count": 121,
   "metadata": {},
   "outputs": [
    {
     "data": {
      "text/plain": [
       "'this is not a pokemon'"
      ]
     },
     "execution_count": 121,
     "metadata": {},
     "output_type": "execute_result"
    }
   ],
   "source": [
    "pokemons.get(\"aaa\",default=\"this is not a pokemon\")"
   ]
  },
  {
   "cell_type": "code",
   "execution_count": 122,
   "metadata": {},
   "outputs": [
    {
     "data": {
      "text/plain": [
       "'Flying'"
      ]
     },
     "execution_count": 122,
     "metadata": {},
     "output_type": "execute_result"
    }
   ],
   "source": [
    "pokemons.get(\"Noivern\",default=\"this is not a pokemon\")"
   ]
  },
  {
   "cell_type": "code",
   "execution_count": 124,
   "metadata": {},
   "outputs": [
    {
     "data": {
      "text/plain": [
       "Pokemon\n",
       "Noivern    Flying\n",
       "aaa           NaN\n",
       "Name: Type, dtype: object"
      ]
     },
     "execution_count": 124,
     "metadata": {},
     "output_type": "execute_result"
    }
   ],
   "source": [
    "pokemons.get([\"Noivern\",\"aaa\"],default=\"this is not a pokemon\")"
   ]
  },
  {
   "cell_type": "code",
   "execution_count": 125,
   "metadata": {},
   "outputs": [
    {
     "data": {
      "text/plain": [
       "Pokemon\n",
       "aaa           NaN\n",
       "Noivern    Flying\n",
       "Name: Type, dtype: object"
      ]
     },
     "execution_count": 125,
     "metadata": {},
     "output_type": "execute_result"
    }
   ],
   "source": [
    "pokemons.get([\"aaa\",\"Noivern\"],default=\"this is not a pokemon\")"
   ]
  },
  {
   "cell_type": "code",
   "execution_count": 126,
   "metadata": {},
   "outputs": [
    {
     "data": {
      "text/plain": [
       "'this is not a pokemon'"
      ]
     },
     "execution_count": 126,
     "metadata": {},
     "output_type": "execute_result"
    }
   ],
   "source": [
    "pokemons.get([\"aaa\",\"bbb\"],default=\"this is not a pokemon\")"
   ]
  }
 ],
 "metadata": {
  "kernelspec": {
   "display_name": "Python 3",
   "language": "python",
   "name": "python3"
  },
  "language_info": {
   "codemirror_mode": {
    "name": "ipython",
    "version": 3
   },
   "file_extension": ".py",
   "mimetype": "text/x-python",
   "name": "python",
   "nbconvert_exporter": "python",
   "pygments_lexer": "ipython3",
   "version": "3.6.2"
  }
 },
 "nbformat": 4,
 "nbformat_minor": 2
}
